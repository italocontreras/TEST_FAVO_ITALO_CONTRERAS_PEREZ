{
  "nbformat": 4,
  "nbformat_minor": 0,
  "metadata": {
    "colab": {
      "name": "PROCESO.ipynb",
      "provenance": [],
      "collapsed_sections": [],
      "toc_visible": true
    },
    "kernelspec": {
      "name": "python3",
      "display_name": "Python 3"
    },
    "language_info": {
      "name": "python"
    }
  },
  "cells": [
    {
      "cell_type": "markdown",
      "metadata": {
        "id": "FTsFJfrA-LfY"
      },
      "source": [
        "#1) IMPORTO LIBRERIAS"
      ]
    },
    {
      "cell_type": "markdown",
      "metadata": {
        "id": "KqgfqqV4MRxY"
      },
      "source": [
        "Primero se importan las librerias y se instala lo necesario"
      ]
    },
    {
      "cell_type": "code",
      "metadata": {
        "id": "wEBZX2LOYAGE"
      },
      "source": [
        "import pandas as pd\n",
        "import io\n",
        "\n",
        "import ast\n",
        "import json\n",
        "import datetime\n",
        "import requests\n",
        "import numpy as np\n",
        "\n",
        "# innstall java\n",
        "!apt-get install openjdk-8-jdk-headless -qq > /dev/null\n",
        "\n",
        "# install spark (change the version number if needed)\n",
        "!wget -q https://archive.apache.org/dist/spark/spark-3.0.0/spark-3.0.0-bin-hadoop3.2.tgz\n",
        "\n",
        "# unzip the spark file to the current folder\n",
        "!tar xf spark-3.0.0-bin-hadoop3.2.tgz\n",
        "\n",
        "# set your spark folder to your system path environment. \n",
        "import os\n",
        "os.environ[\"JAVA_HOME\"] = \"/usr/lib/jvm/java-8-openjdk-amd64\"\n",
        "os.environ[\"SPARK_HOME\"] = \"/content/spark-3.0.0-bin-hadoop3.2\"\n",
        "\n",
        "!pip install -q findspark\n",
        "import findspark\n",
        "findspark.init()\n",
        "\n",
        "from pyspark.sql import SparkSession\n",
        "spark = SparkSession.builder\\\n",
        "        .master(\"local\")\\\n",
        "        .appName(\"Colab\")\\\n",
        "        .config('spark.ui.port', '4050')\\\n",
        "        .getOrCreate()"
      ],
      "execution_count": 1,
      "outputs": []
    },
    {
      "cell_type": "markdown",
      "metadata": {
        "id": "LUXo0Vc8qDOP"
      },
      "source": [
        "#2) CREO FUNCIONES"
      ]
    },
    {
      "cell_type": "markdown",
      "metadata": {
        "id": "EmTc-xmfMUrp"
      },
      "source": [
        "Se crean funciones de 3 tipos:\n",
        "\n",
        "*   Auxiliares: Serán usadas como apoyo por las funciones para cargar bases y responder las preguntas\n",
        "*   Cargar Bases: Serán usadas para transformar los json del s3 a tablas\n",
        "*   Responder Preguntas: Serán usadas para responder preguntas del test\n",
        "\n",
        "\n",
        "\n",
        "\n"
      ]
    },
    {
      "cell_type": "markdown",
      "metadata": {
        "id": "GsfI1nD05F5y"
      },
      "source": [
        "## AUXILIARES"
      ]
    },
    {
      "cell_type": "code",
      "metadata": {
        "id": "HN2MYhpt5Orp"
      },
      "source": [
        "# Formatear campo date de orders a week ISO\n",
        "def FormatearFechaWeek(x):\n",
        "\n",
        "  timestamp = datetime.datetime.fromtimestamp(x)\n",
        "  timestampfin = timestamp.strftime('%Y-%W-%w')\n",
        "  return timestampfin\n",
        "\n",
        "\n",
        "#extraer el nombre del archivo json de la url\n",
        "def ExtraerNombreJson(url):\n",
        "\n",
        "  a = len(url)\n",
        "  b = url[51:a]\n",
        "\n",
        "  return b\n",
        "\n",
        "\n",
        "#convertir de json a spark\n",
        "def JsonToSpark(url):\n",
        "\n",
        "  archivojson = ExtraerNombreJson(url)\n",
        "  sp = spark.read.json(archivojson)\n",
        "  return sp\n",
        "\n",
        "\n",
        "#convertir de json a spark y luego a dataframe\n",
        "def JsonToSparkToDataframe(url):\n",
        "\n",
        "  # DescargarJson(url)\n",
        "  archivojson = ExtraerNombreJson(url)\n",
        "\n",
        "  sp = spark.read.json(archivojson)\n",
        "\n",
        "  df = sp.toPandas()\n",
        "\n",
        "  return df\n",
        "\n",
        "\n",
        "# Formatear campo date de orders a week ISO\n",
        "def FormatearFechaWeek(x):\n",
        "\n",
        "  timestamp = datetime.datetime.fromtimestamp(x)\n",
        "  timestampfin = timestamp.strftime('%Y-%W-%w')\n",
        "  return timestampfin\n",
        "\n"
      ],
      "execution_count": 2,
      "outputs": []
    },
    {
      "cell_type": "markdown",
      "metadata": {
        "id": "kj0In0eHl0Kj"
      },
      "source": [
        "## CARGAR BASES"
      ]
    },
    {
      "cell_type": "markdown",
      "metadata": {
        "id": "k1YqeOZsOMxI"
      },
      "source": [
        "Aqui descargamos el json orders y la convertimos en tabla"
      ]
    },
    {
      "cell_type": "code",
      "metadata": {
        "id": "NGwF4hjJpJw9"
      },
      "source": [
        "def TransformarJsonOrders(url):\n",
        "  \n",
        "  #obtenemos la data\n",
        "  respuesta = requests.get(url)  \n",
        "\n",
        "  #la data se transforma en un string\n",
        "  data_t1 = respuesta.text\n",
        "\n",
        "  #el string se transforma en una lista\n",
        "  data_t2 = data_t1.splitlines()\n",
        "\n",
        "  total_t1=pd.DataFrame()\n",
        "\n",
        "  for elemento in data_t2[0:-1]:\n",
        "\n",
        "    #el elemento de la lista se transforma en json\n",
        "    elementojs = json.loads(elemento)\n",
        "\n",
        "    cont = 0\n",
        "    for elementoprod in elementojs[\"product\"]:\n",
        "      cont = cont + 1\n",
        "\n",
        "      for llave in elementoprod.keys():\n",
        "\n",
        "        campo = \"order_product\" + \"_\" + str(cont) + \"_\" + llave\n",
        "        elementojs[campo] = elementoprod[llave]\n",
        "\n",
        "    #el json se transforma en un dataframe\n",
        "    elementodf = pd.json_normalize(elementojs)\n",
        "\n",
        "    #se concatena con el resto de dataframes\n",
        "    total_t1 = pd.concat([total_t1, elementodf],ignore_index=True)\n",
        "\n",
        "    total_t1[\"date_formateada\"] = total_t1['date'].apply(FormatearFechaWeek)\n",
        "\n",
        "  return total_t1\n",
        "\n"
      ],
      "execution_count": 3,
      "outputs": []
    },
    {
      "cell_type": "markdown",
      "metadata": {
        "id": "YJRxMLS4OrsF"
      },
      "source": [
        "Aqui descargamos el json sellers y la convertimos en tabla"
      ]
    },
    {
      "cell_type": "code",
      "metadata": {
        "id": "Nh0c4LznOZXO"
      },
      "source": [
        "def TransformarJsonSellers(url):\n",
        "  !wget --continue 'https://favo-data-test.s3.amazonaws.com/TestFolder/sellers.json'\n",
        "  total_t1 = JsonToSparkToDataframe(url)\n",
        "\n",
        "  return total_t1"
      ],
      "execution_count": 4,
      "outputs": []
    },
    {
      "cell_type": "markdown",
      "metadata": {
        "id": "xC_i_BwQPB3N"
      },
      "source": [
        "Aqui descargamos el json buyers y la convertimos en tabla"
      ]
    },
    {
      "cell_type": "code",
      "metadata": {
        "id": "W2hQ1_6HOaD5"
      },
      "source": [
        "def TransformarJsonBuyers(url):\n",
        "\n",
        "  #obtenemos la data\n",
        "  respuesta = requests.get(url)\n",
        "\n",
        "  #la data se transforma en un string\n",
        "  data_t1 = respuesta.text\n",
        "\n",
        "  #el string se transforma en una lista\n",
        "  data_t2 = data_t1.splitlines()\n",
        "\n",
        "  total_t1=pd.DataFrame()\n",
        "\n",
        "  for elemento in data_t2:\n",
        "\n",
        "    #elimino el ruido que esta como puntos en el phone\n",
        "    elemento = elemento.replace(\".\", \"\")\n",
        "\n",
        "    #el elemento de la lista se transforma en json\n",
        "    elementojs = json.loads(elemento)\n",
        "\n",
        "    #el json se transforma en un dataframe\n",
        "    elementodf = pd.json_normalize(elementojs)\n",
        "\n",
        "    #se concatena con el resto de dataframes\n",
        "    total_t1 = pd.concat([total_t1, elementodf],ignore_index=True)\n",
        "    # print(total_t1)\n",
        "\n",
        "    # total_t1[\"start_formateada\"] = total_t1['start'].apply(FormatearFecha)\n",
        "\n",
        "  return total_t1"
      ],
      "execution_count": 5,
      "outputs": []
    },
    {
      "cell_type": "markdown",
      "metadata": {
        "id": "M5CT5FOmPKYd"
      },
      "source": [
        "Aqui descargamos el json products y la convertimos en tabla"
      ]
    },
    {
      "cell_type": "code",
      "metadata": {
        "id": "wNXedpxuOZ3D"
      },
      "source": [
        "def TransformarJsonProducts(url):\n",
        "  !wget --continue 'https://favo-data-test.s3.amazonaws.com/TestFolder/products.json'\n",
        "  total_t1 = JsonToSparkToDataframe(url)\n",
        "\n",
        "  return total_t1"
      ],
      "execution_count": 6,
      "outputs": []
    },
    {
      "cell_type": "markdown",
      "metadata": {
        "id": "NY0_gvsHPMT3"
      },
      "source": [
        "Usamos una funcion para invocar las anteriores"
      ]
    },
    {
      "cell_type": "code",
      "metadata": {
        "id": "bRBnNBDFOmPz"
      },
      "source": [
        "def TransformarJsonADataframe(listaurl):\n",
        "\n",
        "  df_orders = TransformarJsonOrders(listaurl[0])\n",
        "  # print(df_orders)\n",
        "\n",
        "  df_sellers = TransformarJsonSellers(listaurl[1])\n",
        "  # print(df_sellers)\n",
        "\n",
        "  df_buyers = TransformarJsonBuyers(listaurl[2])\n",
        "  # print(df_buyers)\n",
        "\n",
        "  df_products = TransformarJsonProducts(listaurl[3])\n",
        "  # print(df_products)\n",
        "\n",
        "  return df_orders,df_sellers,df_buyers,df_products  \n",
        "\n"
      ],
      "execution_count": 7,
      "outputs": []
    },
    {
      "cell_type": "markdown",
      "metadata": {
        "id": "51k1ShhClq3e"
      },
      "source": [
        "## RESPONDER PREGUNTAS"
      ]
    },
    {
      "cell_type": "markdown",
      "metadata": {
        "id": "e2IxFckaQGJy"
      },
      "source": [
        "##PREGUNTA 1"
      ]
    },
    {
      "cell_type": "markdown",
      "metadata": {
        "id": "WP0wB8ZEPYjq"
      },
      "source": [
        "Respondemos la Pregunta 1 con un 1er Metodo que consiste en cruzar todas las tablas (orders,buyers,sellers,products) con python "
      ]
    },
    {
      "cell_type": "code",
      "metadata": {
        "id": "bWBSugTkxbAl"
      },
      "source": [
        "def Pregunta1Metodo1(df1,df2,df3,df4):\n",
        "\n",
        "  #haciendo copias\n",
        "  df1_t1 = df1.copy()\n",
        "  df2_t1 = df2.copy()\n",
        "  df3_t1 = df3.copy()\n",
        "  df4_t1 = df4.copy()\n",
        "\n",
        "  #renombramos y eliminamos campos de orders\n",
        "  df1_t1.rename(columns={'date_formateada':'order_date_formateada'}, inplace=True)\n",
        "  df1_t1.drop(['product','date'], axis = 1,inplace =True)\n",
        "\n",
        "  #cruzamos orders con sellers\n",
        "  total_t1 = pd.merge(df1_t1,df2_t1,on = 'seller_id',how = 'left')\n",
        "  total_t1.rename(columns={'seller':'seller_name','phone':'seller_phone','start_formateada':'seller_start_formateada'}, inplace=True)\n",
        "  total_t1.drop(['start'], axis = 1,inplace =True)\n",
        "\n",
        "  #resultado cruzamos con buyers\n",
        "  total_t2 = pd.merge(total_t1,df3_t1,on = 'buyer_id',how = 'left')\n",
        "  total_t2.rename(columns={'buyer':'buyer_name','phone':'buyer_phone','start_formateada':'buyer_start_formateada'}, inplace=True)\n",
        "  total_t2.drop(['start'], axis = 1,inplace =True)\n",
        "\n",
        "  #resultado cruzamos con productos\n",
        "\n",
        "  #para el producto1\n",
        "  df4_t2 = df4_t1.copy()\n",
        "  df4_t2.rename(columns={'name':'order_product_1_sku_name','sku':'order_product_1_sku','id':'order_product_1_id','price':'order_product_1_price'}, inplace=True)\n",
        "  total_t3 = pd.merge(total_t2,df4_t2,on = 'order_product_1_sku',how = 'left')\n",
        "  # total_t3.rename(columns={'phone':'buyer_phone','start_formateada':'buyer_start_formateada'}, inplace=True)\n",
        "  # total_t3.drop(['start'], axis = 1,inplace =True)\n",
        "\n",
        "  #para el producto2\n",
        "  df4_t3 = df4_t1.copy()\n",
        "  df4_t3.rename(columns={'name':'order_product_2_sku_name','sku':'order_product_2_sku','id':'order_product_2_id','price':'order_product_2_price'}, inplace=True)\n",
        "  total_t4 = pd.merge(total_t3,df4_t3,on = 'order_product_2_sku',how = 'left')\n",
        "  # total_t3.rename(columns={'phone':'buyer_phone','start_formateada':'buyer_start_formateada'}, inplace=True)\n",
        "  # total_t3.drop(['start'], axis = 1,inplace =True)\n",
        "\n",
        "  return total_t4\n"
      ],
      "execution_count": 8,
      "outputs": []
    },
    {
      "cell_type": "markdown",
      "metadata": {
        "id": "MQosJ5VcPyml"
      },
      "source": [
        "Respondemos la Pregunta 1 con un 2do Metodo que consiste en cruzar todas las tablas (orders,buyers,sellers,products) con spark sql "
      ]
    },
    {
      "cell_type": "code",
      "metadata": {
        "id": "uWVjR8P_PxjA"
      },
      "source": [
        "\n",
        "def Pregunta1Metodo2(df1,df2,df3,df4):\n",
        "\n",
        "  #haciendo copias\n",
        "  df1_t1 = df1.copy()\n",
        "  df2_t1 = df2.copy()\n",
        "  df3_t1 = df3.copy()\n",
        "  df4_t1 = df4.copy()\n",
        "\n",
        "  df1_t2 = df1_t1[df1_t1['buyer_id'].notnull()]  \n",
        "  sp1 =spark.createDataFrame(df1_t2)\n",
        "  sp1.createOrReplaceTempView(\"sql_view_orders\")\n",
        "\n",
        "  sp2 =spark.createDataFrame(df2_t1)\n",
        "  sp2.createOrReplaceTempView(\"sql_view_sellers\")\n",
        "\n",
        "  sp3 =spark.createDataFrame(df3_t1)\n",
        "  sp3.createOrReplaceTempView(\"sql_view_buyers\")\n",
        "\n",
        "  sp4 =spark.createDataFrame(df4_t1)\n",
        "  sp4.createOrReplaceTempView(\"sql_view_products\")\n",
        "\n",
        "  spark.sql(\"select tord.*, \\\n",
        "            tsel.*, \\\n",
        "            tbuy.*,\\\n",
        "            tpro1.*,\\\n",
        "            tpro2.*\\\n",
        "             FROM sql_view_orders tord\\\n",
        "        LEFT JOIN sql_view_sellers tsel ON  tord.seller_id = tsel.seller_id\\\n",
        "        LEFT JOIN sql_view_buyers tbuy ON tord.buyer_id = tbuy.buyer_id\\\n",
        "        LEFT JOIN sql_view_products tpro1 ON tord.order_product_1_sku = tpro1.sku\\\n",
        "        LEFT JOIN sql_view_products tpro2 ON tord.order_product_2_sku = tpro2.sku\\\n",
        "  \").show()\n",
        "\n",
        "  return"
      ],
      "execution_count": 9,
      "outputs": []
    },
    {
      "cell_type": "markdown",
      "metadata": {
        "id": "dOt95LMUP3SA"
      },
      "source": [
        "Usamos una funcion Pregunta 1 para invocar los 2 metodos"
      ]
    },
    {
      "cell_type": "code",
      "metadata": {
        "id": "o5kKe_h5PyRf"
      },
      "source": [
        "def Pregunta1(df1,df2,df3,df4):\n",
        "\n",
        "\n",
        "  p1m1 = Pregunta1Metodo1(df1,df2,df3,df4)  \n",
        "\n",
        "  Pregunta1Metodo2(df1,df2,df3,df4)  \n",
        "\n",
        "  return p1m1  "
      ],
      "execution_count": 10,
      "outputs": []
    },
    {
      "cell_type": "markdown",
      "metadata": {
        "id": "YLL4X24tQJTU"
      },
      "source": [
        "## PREGUNTA 2"
      ]
    },
    {
      "cell_type": "markdown",
      "metadata": {
        "id": "O7lgzNrsQLNM"
      },
      "source": [
        "Lo que se hizo aqui fue partir de la tabla ya con todos los cruces, luego calcular la venta por fila, ordenar por seller_id ,fecha (iso week) y cantidad vendida ascendentemente. Finalmente se agregó el campo crecimiento "
      ]
    },
    {
      "cell_type": "code",
      "metadata": {
        "id": "mkKqBoEh0xFT"
      },
      "source": [
        "def Pregunta2(df1,df2,df3,df4):\n",
        "\n",
        "\n",
        "  p1_t1 = Pregunta1Metodo1(df1,df2,df3,df4)\n",
        "  # print(p1_t1)\n",
        "\n",
        "  #calculo venta total por fila  \n",
        "  p1_t1['order_product_1_venta'] = p1_t1['order_product_1_price']*p1_t1['order_product_1_qt']\n",
        "  p1_t1['order_product_2_venta'] = p1_t1['order_product_2_price']*p1_t1['order_product_2_qt']\n",
        "  p1_t1['order_total_venta'] = p1_t1['order_product_1_venta'] + p1_t1['order_product_2_venta']\n",
        "  \n",
        "  #selecciono algunos campos\n",
        "  p1_t1 = p1_t1[['seller_id','order_date_formateada','order_total_venta']]\n",
        "\n",
        "  #ordeno ascendentemente\n",
        "  p1_t1.sort_values(by=['seller_id','order_date_formateada'],inplace = True)\n",
        "\n",
        "  #calculo el crecimiento\n",
        "  p1_t1['crecimiento'] = np.where(p1_t1['seller_id']==p1_t1.seller_id.shift(1), p1_t1['order_total_venta'] - p1_t1.order_total_venta.shift(1), 0)\n",
        "\n",
        "  return p1_t1\n"
      ],
      "execution_count": 11,
      "outputs": []
    },
    {
      "cell_type": "markdown",
      "metadata": {
        "id": "7HKIZmZcQmbF"
      },
      "source": [
        "##PREGUNTA 3"
      ]
    },
    {
      "cell_type": "markdown",
      "metadata": {
        "id": "a8vMRlL2QouO"
      },
      "source": [
        "Lo que se hizo aqui fue partir de la tabla ya con todos los cruces, luego calcular la venta por fila, agrupar por seller_id y calcular el porcentaje de ventas de ese seller_id sobre el total"
      ]
    },
    {
      "cell_type": "code",
      "metadata": {
        "id": "tETgL5LhAgH7"
      },
      "source": [
        "def Pregunta3(df1,df2,df3,df4):\n",
        "\n",
        "  p1_t1 = Pregunta1Metodo1(df1,df2,df3,df4)\n",
        "\n",
        "  p1_t1['order_product_1_venta'] = p1_t1['order_product_1_price']*p1_t1['order_product_1_qt']\n",
        "  p1_t1['order_product_2_venta'] = p1_t1['order_product_2_price']*p1_t1['order_product_2_qt']\n",
        "  p1_t1['order_total_venta'] = p1_t1['order_product_1_venta'] + p1_t1['order_product_2_venta']\n",
        "  # Total = df['1'].sum()\n",
        "\n",
        "  # tren_t3 = tren_t2.groupby([\"Per_Salida_Date\"], as_index=False)[\"Codigo\"].count()\n",
        "  p1_t2 = p1_t1.groupby([\"seller_id\"], as_index=False)[\"order_total_venta\"].sum()\n",
        "  totalventas = p1_t2['order_total_venta'].sum()\n",
        "  p1_t2['total_ventas(%)'] = (p1_t2['order_total_venta']/totalventas) * 100\n",
        "\n",
        "  p1_t2 = p1_t2[['seller_id','total_ventas(%)']]\n",
        "\n",
        "  return p1_t2\n",
        "\n"
      ],
      "execution_count": 12,
      "outputs": []
    },
    {
      "cell_type": "markdown",
      "metadata": {
        "id": "3zvyncuOROBV"
      },
      "source": [
        "## PREGUNTA 4"
      ]
    },
    {
      "cell_type": "markdown",
      "metadata": {
        "id": "fqaXoc9ORP58"
      },
      "source": [
        "Para completar el buyer_id a las ordenes que faltaban se hizo lo siguiente:\n",
        "\n",
        "\n",
        "1.   Se concateno el sk del producto 1 y producto 2 (sk1+sk2) y se agrupo contando la cantidad de buyer_id y en la muy gran mayoria se vio que para cada sk1+sk2 solo habia un unico buyer_id entonces no habia mucha sentido hacer imputacion con sk1+sk2 y se decidio hacer por el sk1\n",
        "2.   Ubicamos los sk1 donde esten buyer_id nulos y se imputa con los datos correspondientes de sk1 (buyer_id,buyer_name y buyer_phone)\n",
        "\n"
      ]
    },
    {
      "cell_type": "code",
      "metadata": {
        "id": "Va8vsP1cs9Rg"
      },
      "source": [
        "\n",
        "def Pregunta4(df1,df2,df3,df4):\n",
        "  p1_t1 = Pregunta1Metodo1(df1,df2,df3,df4)\n",
        "\n",
        "  p1_t1[\"sk1+sk2\"] = p1_t1[\"order_product_1_sku\"].apply(str) + p1_t1[\"order_product_2_sku\"].apply(str)\n",
        "  # p1_t1.info()\n",
        "\n",
        "  p1_t1[\"Cantidad\"] = p1_t1[\"buyer_id\"]   \n",
        "\n",
        "  #la gran mayoria combinacion de los 2 productos comprados es unica\n",
        "  p1_t2 = p1_t1.groupby([\"sk1+sk2\"], as_index=False)[\"Cantidad\"].count()\n",
        "\n",
        "\n",
        "  p1_t2 = p1_t1.groupby([\"order_product_1_sku\",\"buyer_id\",\"buyer_name\",\"buyer_phone\"], as_index=False)[\"Cantidad\"].count()\n",
        "\n",
        "  #ubicamos los order_product_1_sku donde esten buyer_id nulos\n",
        "  listas_order_product_1_sku_nulos = p1_t1.loc[p1_t1[\"buyer_id\"].isnull(),\"order_product_1_sku\"].unique()\n",
        "  \n",
        "  #recorremos cada order_product_1_sku que contiene buyer_id nulo y cada buyer_id de un order_product_1_sku se imputa con el 1er valor de la lista de buyers de ese order_product_1_sku\n",
        "  for l in listas_order_product_1_sku_nulos:\n",
        "\n",
        "    p1_t1.loc[(p1_t1[\"buyer_id\"].isnull()) & (p1_t1[\"order_product_1_sku\"] == l),\"buyer_id\"] = p1_t2.loc[p1_t2[\"order_product_1_sku\"] == l,\"buyer_id\"].values[0]\n",
        "    p1_t1.loc[(p1_t1[\"buyer_name\"].isnull()) & (p1_t1[\"order_product_1_sku\"] == l),\"buyer_name\"] = p1_t2.loc[p1_t2[\"order_product_1_sku\"] == l,\"buyer_name\"].values[0]\n",
        "    p1_t1.loc[(p1_t1[\"buyer_phone\"].isnull()) & (p1_t1[\"order_product_1_sku\"] == l),\"buyer_phone\"] = p1_t2.loc[p1_t2[\"order_product_1_sku\"] == l,\"buyer_phone\"].values[0]\n",
        "    # p1_t1.loc[(p1_t1[\"buyer_start_formateada\"].isnull()) & (p1_t1[\"order_product_1_sku\"] == l),\"buyer_start_formateada\"] = p1_t2.loc[p1_t2[\"order_product_1_sku\"] == l,\"buyer_start_formateada\"].values[0]\n",
        "\n",
        "  # p1_t4 = p1_t1[p1_t1['buyer_id'].isnull()]\n",
        "\n",
        "  del p1_t1[\"Cantidad\"]\n",
        "  p1_t1.info()\n",
        "\n",
        "\n",
        "  return p1_t1\n",
        "\n"
      ],
      "execution_count": 13,
      "outputs": []
    },
    {
      "cell_type": "markdown",
      "metadata": {
        "id": "v12__LfeSvqX"
      },
      "source": [
        "Se tiene una funcion que invoca las respuestas a las preguntas y las descarga en excel"
      ]
    },
    {
      "cell_type": "code",
      "metadata": {
        "id": "AjyTmrzlDwui"
      },
      "source": [
        "\n",
        "def ResponderPreguntas(dfo,dfs,dfb,dfp):\n",
        "\n",
        "  dfo_t1 = dfo.copy()\n",
        "  dfs_t1 = dfs.copy()\n",
        "  dfb_t1 = dfb.copy()\n",
        "  dfp_t1 = dfp.copy()\n",
        "\n",
        "  print( \"############################################## SOLUCION PREGUNTA 1 (2 METODOS)##############################################\")\n",
        "  p1 = Pregunta1(dfo_t1,dfs_t1,dfb_t1,dfp_t1)\n",
        "  print(p1)\n",
        "  p1.to_excel(\"SOLUCION_PREGUNTA_1.xlsx\") \n",
        "  from google.colab import files\n",
        "  files.download(\"SOLUCION_PREGUNTA_1.xlsx\") \n",
        "\n",
        "\n",
        "  print( \"############################################## SOLUCION PREGUNTA 2 ##############################################\")\n",
        "  p2 = Pregunta2(dfo_t1,dfs_t1,dfb_t1,dfp_t1)\n",
        "  print(p2)\n",
        "  p2.to_excel(\"SOLUCION_PREGUNTA_2.xlsx\") \n",
        "  from google.colab import files\n",
        "  files.download(\"SOLUCION_PREGUNTA_2.xlsx\")\n",
        "\n",
        "  print( \"############################################## SOLUCION PREGUNTA 3 ##############################################\")\n",
        "  p3 = Pregunta3(dfo_t1,dfs_t1,dfb_t1,dfp_t1)\n",
        "  print(p3)\n",
        "  p3.to_excel(\"SOLUCION_PREGUNTA_3.xlsx\") \n",
        "  from google.colab import files\n",
        "  files.download(\"SOLUCION_PREGUNTA_3.xlsx\")\n",
        "\n",
        "  print( \"############################################## SOLUCION PREGUNTA 4 ##############################################\")\n",
        "  p4 = Pregunta4(dfo_t1,dfs_t1,dfb_t1,dfp_t1)\n",
        "  print(p4)\n",
        "  p1.to_excel(\"SOLUCION_PREGUNTA_4.xlsx\") \n",
        "  from google.colab import files\n",
        "  files.download(\"SOLUCION_PREGUNTA_4.xlsx\")\n",
        "\n",
        "  return p1,p2,p3,p4\n"
      ],
      "execution_count": 14,
      "outputs": []
    },
    {
      "cell_type": "markdown",
      "metadata": {
        "id": "Qf3B4zY6mQi_"
      },
      "source": [
        "# 3) MAIN"
      ]
    },
    {
      "cell_type": "markdown",
      "metadata": {
        "id": "6WPPu5b5NPFF"
      },
      "source": [
        "Luego de haber definido todas las funciones necesarias en el punto anterior en este main ejecutamos todo el proceso de la siguiente forma:\n",
        "\n",
        "\n",
        "1.   Defino mi lista de urls (orders,sellers,buyers y products)\n",
        "2.   Transformo los json de las urls a tablas\n",
        "3.   Usando las tablas del punto anterior respondo todas las preguntas del test\n"
      ]
    },
    {
      "cell_type": "code",
      "metadata": {
        "id": "bEBn14NVtOzc"
      },
      "source": [
        "\n",
        "def main():\n",
        "  \n",
        "  #URLS S3\n",
        "  listaurl = ['https://favo-data-test.s3.amazonaws.com/TestFolder/orders.json','https://favo-data-test.s3.amazonaws.com/TestFolder/sellers.json','https://favo-data-test.s3.amazonaws.com/TestFolder/buyers.json','https://favo-data-test.s3.amazonaws.com/TestFolder/products.json']\n",
        " \n",
        "  #TRANSFORMO JSONS A TABLAS \n",
        "  df_orders,df_sellers,df_buyers,df_products = TransformarJsonADataframe(listaurl)\n",
        "\n",
        "  #USO ESOS DATAFRAMES PARA RESPONDER LAS PREGUNTAS\n",
        "  p1_respondida,p2_respondida,p3_respondida,p4_respondida = ResponderPreguntas(df_orders,df_sellers,df_buyers,df_products)   \n",
        "\n",
        "\n",
        "  return p1_respondida,p2_respondida,p3_respondida,p4_respondida      \n",
        "     "
      ],
      "execution_count": 15,
      "outputs": []
    },
    {
      "cell_type": "code",
      "metadata": {
        "colab": {
          "base_uri": "https://localhost:8080/",
          "height": 1000
        },
        "id": "cz6aYX0eEbpm",
        "outputId": "04f7a39e-5630-4f33-d467-096a4544be01"
      },
      "source": [
        "main()"
      ],
      "execution_count": 16,
      "outputs": [
        {
          "output_type": "stream",
          "name": "stdout",
          "text": [
            "--2021-09-17 10:28:26--  https://favo-data-test.s3.amazonaws.com/TestFolder/sellers.json\n",
            "Resolving favo-data-test.s3.amazonaws.com (favo-data-test.s3.amazonaws.com)... 52.216.18.184\n",
            "Connecting to favo-data-test.s3.amazonaws.com (favo-data-test.s3.amazonaws.com)|52.216.18.184|:443... connected.\n",
            "HTTP request sent, awaiting response... 200 OK\n",
            "Length: 10397 (10K) [application/json]\n",
            "Saving to: ‘sellers.json’\n",
            "\n",
            "\rsellers.json          0%[                    ]       0  --.-KB/s               \rsellers.json        100%[===================>]  10.15K  --.-KB/s    in 0s      \n",
            "\n",
            "2021-09-17 10:28:26 (81.3 MB/s) - ‘sellers.json’ saved [10397/10397]\n",
            "\n",
            "--2021-09-17 10:28:33--  https://favo-data-test.s3.amazonaws.com/TestFolder/products.json\n",
            "Resolving favo-data-test.s3.amazonaws.com (favo-data-test.s3.amazonaws.com)... 52.217.196.153\n",
            "Connecting to favo-data-test.s3.amazonaws.com (favo-data-test.s3.amazonaws.com)|52.217.196.153|:443... connected.\n",
            "HTTP request sent, awaiting response... 200 OK\n",
            "Length: 9133 (8.9K) [application/json]\n",
            "Saving to: ‘products.json’\n",
            "\n",
            "products.json       100%[===================>]   8.92K  --.-KB/s    in 0s      \n",
            "\n",
            "2021-09-17 10:28:33 (86.6 MB/s) - ‘products.json’ saved [9133/9133]\n",
            "\n",
            "############################################## SOLUCION PREGUNTA 1 (2 METODOS)##############################################\n",
            "+--------------------+--------------------+--------------------+--------------------+----------+-------------------+------------------+-------------------+------------------+---------------+---------+----------------+--------------------+----------+------------------+---------+--------------------+----------+--------------------+----------------+-----+---+--------------------+-------+-----+---+\n",
            "|            order_id|            buyer_id|           seller_id|             product|      date|order_product_1_sku|order_product_1_qt|order_product_2_sku|order_product_2_qt|date_formateada|    phone|          seller|           seller_id|     start|             buyer|    phone|            buyer_id|     start|                  id|            name|price|sku|                  id|   name|price|sku|\n",
            "+--------------------+--------------------+--------------------+--------------------+----------+-------------------+------------------+-------------------+------------------+---------------+---------+----------------+--------------------+----------+------------------+---------+--------------------+----------+--------------------+----------------+-----+---+--------------------+-------+-----+---+\n",
            "|64185044-76F0-43C...|B34E74E2-781E-45E...|575F9B72-71A9-44A...|[[sku -> 29, qt -...|1607389521|                 29|                 5|                 26|                 6|      2020-49-2|222230460|   Judith Rogers|575F9B72-71A9-44A...|1615041401|      Thelma Ramos|284876269|B34E74E2-781E-45E...|1598345692|F1BE2633-1406-4B5...|          Buriti| 9.39| 29|087A7E57-50DF-461...|   Baru| 0.67| 26|\n",
            "|60C686DB-DCBE-428...|E21E65DA-74A6-418...|F8DF8EC7-E54E-40E...|[[sku -> 73, qt -...|1617299322|                 73|                 9|                 26|                 9|      2021-13-4|826116090|      Lena Quinn|F8DF8EC7-E54E-40E...|1592167607|    Mildred Dawson|100567515|E21E65DA-74A6-418...|1600570332|1AEA47D9-3E0D-44C...|Fruta-do-milagre|  7.6| 73|087A7E57-50DF-461...|   Baru| 0.67| 26|\n",
            "|01BD54BE-F1FF-48B...|43244AFE-E6BC-4E0...|B1B4E603-9D35-450...|[[sku -> 70, qt -...|1604995425|                 70|                 4|                 26|                10|      2020-45-2|898606156|    Rex Chambers|B1B4E603-9D35-450...|1599093003|      Vera Hoffman| 57266196|43244AFE-E6BC-4E0...|1603219872|EDA2FA9D-DC78-4EE...|   Figo-da-índia|10.29| 70|087A7E57-50DF-461...|   Baru| 0.67| 26|\n",
            "|B440DC28-0F36-495...|CF55E8D7-8E96-446...|B5386E0C-867F-48A...|[[sku -> 40, qt -...|1617435314|                 40|                 8|                 26|                 1|      2021-13-6|250145229|  Leland Sanchez|B5386E0C-867F-48A...|1609903972|     Jeannie Miles|156179101|CF55E8D7-8E96-446...|1612027010|A707CEA1-75A6-4F9...|         Cambucá| 1.28| 40|087A7E57-50DF-461...|   Baru| 0.67| 26|\n",
            "|8DDB5CEA-163F-458...|D5871074-F993-4A1...|3CD814C3-E583-484...|[[sku -> 101, qt ...|1616462962|                101|                 8|                 29|                10|      2021-12-2|530633136|   Eddie Carlson|3CD814C3-E583-484...|1594587574|    Donna Fletcher|153077713|D5871074-F993-4A1...|1598248781|1910B527-3A3A-472...|          Patauá| 4.09|101|F1BE2633-1406-4B5...| Buriti| 9.39| 29|\n",
            "|81C87098-F18E-41D...|F45CE51E-5B76-452...|C7822D9F-7142-409...|[[sku -> 102, qt ...|1605058033|                102|                 9|                 29|                 5|      2020-45-3|158709789| Roberto Mullins|C7822D9F-7142-409...|1601338499|      Julian Burke|101388793|F45CE51E-5B76-452...|1601629025|F7EDBA11-BC50-454...|          Pajurá| 9.12|102|F1BE2633-1406-4B5...| Buriti| 9.39| 29|\n",
            "|F63F233F-109A-481...|79F5AE11-CBF4-41B...|B01A7764-4398-4DF...|[[sku -> 18, qt -...|1616220509|                 18|                 4|                 29|                 7|      2021-11-6|351841526|    Philip Sharp|B01A7764-4398-4DF...|1609068793|    Judith Russell|137674926|79F5AE11-CBF4-41B...|1609191456|71245D7F-CF4F-41F...|         Atemoia|10.38| 18|F1BE2633-1406-4B5...| Buriti| 9.39| 29|\n",
            "|74BED578-5602-4F1...|AE22E6C0-6D3E-4CD...|AD3F0BC3-DFDB-4CF...|[[sku -> 28, qt -...|1609393140|                 28|                 6|                 65|                 4|      2020-52-4|746453058|     Della Craig|AD3F0BC3-DFDB-4CF...|1614398866|     Laurence Neal|158680006|AE22E6C0-6D3E-4CD...|1592743548|C41E138D-41EC-4E9...|          Biribá| 14.8| 28|3ADFCA4C-D54F-4E5...|   Figo| 8.13| 65|\n",
            "|D3E36298-4B6A-4CF...|6B5DC1A4-FB85-485...|910E20B6-077D-4D3...|[[sku -> 56, qt -...|1609939261|                 56|                 8|                 19|                10|      2021-01-3|933923022| Rafael Matthews|910E20B6-077D-4D3...|1608649172|        Neal Cohen|135229521|6B5DC1A4-FB85-485...|1609744802|EB3402D1-AE75-492...|           Dendê|11.52| 56|55395D57-6228-48C...|  Avelã| 3.01| 19|\n",
            "|0F3505D7-35B9-41F...|E506CA2A-C5DB-431...|3EDB7C10-AC3A-4CD...|[[sku -> 27, qt -...|1618551674|                 27|                 2|                 54|                 9|      2021-15-5|545140298|    Jesse Tucker|3EDB7C10-AC3A-4CD...|1594690851|    Keith Alvarado|894074373|E506CA2A-C5DB-431...|1612836024|4B30EF22-7D78-413...|       Bergamota|11.83| 27|22758167-FE23-4F9...|Damasco| 7.39| 54|\n",
            "|A270A890-A16F-44B...|A0CDCA91-FB96-469...|AC896BAB-A90A-486...|[[sku -> 67, qt -...|1598338504|                 67|                 7|                 54|                 7|      2020-34-2|719813345|  Jimmie Gregory|AC896BAB-A90A-486...|1609328676|    Leo Williamson|124696849|A0CDCA91-FB96-469...|1597027794|9DD3C853-ED44-436...|  Fruta-do-conde|13.97| 67|22758167-FE23-4F9...|Damasco| 7.39| 54|\n",
            "|77B6E67E-BD37-4E1...|4B722455-CA06-454...|EF32842D-EDB7-483...|[[sku -> 36, qt -...|1608670016|                 36|                 1|                 54|                 1|      2020-51-2|409952442|    Natalie Vega|EF32842D-EDB7-483...|1616094522|       Dianna Sims|778931572|4B722455-CA06-454...|1607777439|1F1BA487-0F6D-4B6...|            Caju| 9.41| 36|22758167-FE23-4F9...|Damasco| 7.39| 54|\n",
            "|7D26C83C-B70D-4D1...|A0CDCA91-FB96-469...|AC896BAB-A90A-486...|[[sku -> 28, qt -...|1611397390|                 28|                 8|                 22|                 2|      2021-03-6|719813345|  Jimmie Gregory|AC896BAB-A90A-486...|1609328676|    Leo Williamson|124696849|A0CDCA91-FB96-469...|1597027794|C41E138D-41EC-4E9...|          Biribá| 14.8| 28|04403FF6-2672-44F...| Bacaba| 6.63| 22|\n",
            "|3CDE425C-3130-419...|159E4380-752F-4FA...|BC9C6854-0E65-463...|[[sku -> 47, qt -...|1604310848|                 47|                 1|                 22|                 4|      2020-44-1|801119795|  Alonzo Lambert|BC9C6854-0E65-463...|1613009710|     Warren Hudson| 30187407|159E4380-752F-4FA...|1601866618|B801A38E-007A-40A...|Castanha-do-pará|12.55| 47|04403FF6-2672-44F...| Bacaba| 6.63| 22|\n",
            "|18874792-F65B-4BF...|F1BB5DF8-1624-478...|02113CCD-0E4D-432...|[[sku -> 21, qt -...|1608403592|                 21|                 7|                  7|                 5|      2020-50-6|469623006|Bernadette Frank|02113CCD-0E4D-432...|1613119747|     Carlton Scott|126869252|F1BB5DF8-1624-478...|1605197661|6A2271EB-AD6A-4BA...|          Babaçu|10.96| 21|DC55F113-5916-4E2...|   Akee| 3.94|  7|\n",
            "|49C32B18-C2F0-40C...|5046B64E-466A-4F1...|032C593C-ED37-497...|[[sku -> 93, qt -...|1616649517|                 93|                 2|                 77|                 5|      2021-12-4|398297982|    Jerome Perry|032C593C-ED37-497...|1616667229|Johnathan Mckenzie|144882398|5046B64E-466A-4F1...|1607279396|1584BCA7-204C-4B3...|        Pindaíba|  5.4| 93|D1DCE5FD-A9C8-4F8...| Goiaba| 8.94| 77|\n",
            "|134BD016-2360-4E4...|5046B64E-466A-4F1...|032C593C-ED37-497...|[[sku -> 93, qt -...|1619397637|                 93|                 5|                 34|                10|      2021-17-1|398297982|    Jerome Perry|032C593C-ED37-497...|1616667229|Johnathan Mckenzie|144882398|5046B64E-466A-4F1...|1607279396|1584BCA7-204C-4B3...|        Pindaíba|  5.4| 93|6A6FAC05-B7BF-4B7...|Caimito| 4.87| 34|\n",
            "|398E1565-EB59-44F...|183C397E-71DA-494...|3958BE52-8FB1-44F...|[[sku -> 88, qt -...|1614430102|                 88|                 7|                 50|                 4|      2021-08-6|549344787|     Cora Holmes|3958BE52-8FB1-44F...|1613470407|       Freda Lewis|659559584|183C397E-71DA-494...|1613655733|768C4469-4D03-408...|         Pitanga|13.14| 88|7D0FA243-DE81-41B...|Ciruela| 3.66| 50|\n",
            "|93924557-72E7-4DA...|B7E0DFF1-5746-4B5...|7DE2A626-F9CF-4D3...|[[sku -> 89, qt -...|1615490444|                 89|                 6|                 50|                 1|      2021-10-4|396331260|        Pat Webb|7DE2A626-F9CF-4D3...|1602492569|   Angel Hernandez|132843887|B7E0DFF1-5746-4B5...|1591301729|BCF5E34E-4AF0-421...|           Pinha| 5.84| 89|7D0FA243-DE81-41B...|Ciruela| 3.66| 50|\n",
            "|DAEB212C-ED7D-4D8...|CFC312D6-6791-40A...|C7911242-12BF-473...|[[sku -> 2, qt ->...|1604280253|                  2|                 2|                 50|                10|      2020-44-1|197099552|   Monica Waters|C7911242-12BF-473...|1597760328|      Hector Evans| 22348046|CFC312D6-6791-40A...|1600045750|5D6C8AEB-0EB0-4D7...|            Abiu| 1.17|  2|7D0FA243-DE81-41B...|Ciruela| 3.66| 50|\n",
            "+--------------------+--------------------+--------------------+--------------------+----------+-------------------+------------------+-------------------+------------------+---------------+---------+----------------+--------------------+----------+------------------+---------+--------------------+----------+--------------------+----------------+-----+---+--------------------+-------+-----+---+\n",
            "only showing top 20 rows\n",
            "\n",
            "                                  order_id  ... order_product_2_price\n",
            "0    8275800A-F1C9-49BD-97E1-18DA-64C3A758  ...                  8.84\n",
            "1    341DDEC4-8D7D-4C4C-B8E8-6EA8-F5A8692B  ...                  5.40\n",
            "2    B74FEE59-0E7A-4B06-8A05-C56F-5E6A7903  ...                 10.38\n",
            "3    93924557-72E7-4DAA-83FF-613B-363FE64C  ...                  3.66\n",
            "4    42654D33-759A-4F3D-ABAC-DB89-68BC6B24  ...                  8.35\n",
            "..                                     ...  ...                   ...\n",
            "195  BDB9D2E3-2E49-455A-924E-9F3F-98E1DFED  ...                  4.68\n",
            "196  3CDE425C-3130-4192-9D44-E16B-C9E5F45A  ...                  6.63\n",
            "197  9966E05B-4AAA-4D2F-8B62-97E6-FCA166B8  ...                 11.52\n",
            "198  B80537D7-56F4-42ED-A665-54EE-65AA4599  ...                  7.35\n",
            "199  9BF5274A-743C-4B04-858F-CCC5-48C3460B  ...                  4.73\n",
            "\n",
            "[200 rows x 18 columns]\n"
          ]
        },
        {
          "output_type": "display_data",
          "data": {
            "application/javascript": [
              "\n",
              "    async function download(id, filename, size) {\n",
              "      if (!google.colab.kernel.accessAllowed) {\n",
              "        return;\n",
              "      }\n",
              "      const div = document.createElement('div');\n",
              "      const label = document.createElement('label');\n",
              "      label.textContent = `Downloading \"${filename}\": `;\n",
              "      div.appendChild(label);\n",
              "      const progress = document.createElement('progress');\n",
              "      progress.max = size;\n",
              "      div.appendChild(progress);\n",
              "      document.body.appendChild(div);\n",
              "\n",
              "      const buffers = [];\n",
              "      let downloaded = 0;\n",
              "\n",
              "      const channel = await google.colab.kernel.comms.open(id);\n",
              "      // Send a message to notify the kernel that we're ready.\n",
              "      channel.send({})\n",
              "\n",
              "      for await (const message of channel.messages) {\n",
              "        // Send a message to notify the kernel that we're ready.\n",
              "        channel.send({})\n",
              "        if (message.buffers) {\n",
              "          for (const buffer of message.buffers) {\n",
              "            buffers.push(buffer);\n",
              "            downloaded += buffer.byteLength;\n",
              "            progress.value = downloaded;\n",
              "          }\n",
              "        }\n",
              "      }\n",
              "      const blob = new Blob(buffers, {type: 'application/binary'});\n",
              "      const a = document.createElement('a');\n",
              "      a.href = window.URL.createObjectURL(blob);\n",
              "      a.download = filename;\n",
              "      div.appendChild(a);\n",
              "      a.click();\n",
              "      div.remove();\n",
              "    }\n",
              "  "
            ],
            "text/plain": [
              "<IPython.core.display.Javascript object>"
            ]
          },
          "metadata": {}
        },
        {
          "output_type": "display_data",
          "data": {
            "application/javascript": [
              "download(\"download_c7ff5e48-f534-4df5-9f3e-d2f6e2d8d0da\", \"SOLUCION_PREGUNTA_1.xlsx\", 38210)"
            ],
            "text/plain": [
              "<IPython.core.display.Javascript object>"
            ]
          },
          "metadata": {}
        },
        {
          "output_type": "stream",
          "name": "stdout",
          "text": [
            "############################################## SOLUCION PREGUNTA 2 ##############################################\n",
            "                                 seller_id  ... crecimiento\n",
            "12   0158E0BA-7916-434F-AEAE-1C30-DF768884  ...        0.00\n",
            "191  0158E0BA-7916-434F-AEAE-1C30-DF768884  ...      -10.71\n",
            "199  0195516D-AD20-4FAF-90E6-1C47-DAFAAA73  ...        0.00\n",
            "184  0195516D-AD20-4FAF-90E6-1C47-DAFAAA73  ...       13.39\n",
            "87   0195516D-AD20-4FAF-90E6-1C47-DAFAAA73  ...       61.68\n",
            "..                                     ...  ...         ...\n",
            "44   FA1A3B8F-9273-4CE2-95ED-D508-200F740C  ...       69.74\n",
            "47   FA1A3B8F-9273-4CE2-95ED-D508-200F740C  ...       10.99\n",
            "138  FBE555F8-864A-4118-BFFD-C432-4054ED52  ...        0.00\n",
            "84   FCB585EF-A4D5-437D-951F-EC84-5171FFC6  ...        0.00\n",
            "58   FE1085CE-EF48-4B89-8B06-14CB-D0E5F6C1  ...        0.00\n",
            "\n",
            "[200 rows x 4 columns]\n"
          ]
        },
        {
          "output_type": "display_data",
          "data": {
            "application/javascript": [
              "\n",
              "    async function download(id, filename, size) {\n",
              "      if (!google.colab.kernel.accessAllowed) {\n",
              "        return;\n",
              "      }\n",
              "      const div = document.createElement('div');\n",
              "      const label = document.createElement('label');\n",
              "      label.textContent = `Downloading \"${filename}\": `;\n",
              "      div.appendChild(label);\n",
              "      const progress = document.createElement('progress');\n",
              "      progress.max = size;\n",
              "      div.appendChild(progress);\n",
              "      document.body.appendChild(div);\n",
              "\n",
              "      const buffers = [];\n",
              "      let downloaded = 0;\n",
              "\n",
              "      const channel = await google.colab.kernel.comms.open(id);\n",
              "      // Send a message to notify the kernel that we're ready.\n",
              "      channel.send({})\n",
              "\n",
              "      for await (const message of channel.messages) {\n",
              "        // Send a message to notify the kernel that we're ready.\n",
              "        channel.send({})\n",
              "        if (message.buffers) {\n",
              "          for (const buffer of message.buffers) {\n",
              "            buffers.push(buffer);\n",
              "            downloaded += buffer.byteLength;\n",
              "            progress.value = downloaded;\n",
              "          }\n",
              "        }\n",
              "      }\n",
              "      const blob = new Blob(buffers, {type: 'application/binary'});\n",
              "      const a = document.createElement('a');\n",
              "      a.href = window.URL.createObjectURL(blob);\n",
              "      a.download = filename;\n",
              "      div.appendChild(a);\n",
              "      a.click();\n",
              "      div.remove();\n",
              "    }\n",
              "  "
            ],
            "text/plain": [
              "<IPython.core.display.Javascript object>"
            ]
          },
          "metadata": {}
        },
        {
          "output_type": "display_data",
          "data": {
            "application/javascript": [
              "download(\"download_0fd828ba-6ea2-4625-9a08-4ca4897e8251\", \"SOLUCION_PREGUNTA_2.xlsx\", 13686)"
            ],
            "text/plain": [
              "<IPython.core.display.Javascript object>"
            ]
          },
          "metadata": {}
        },
        {
          "output_type": "stream",
          "name": "stdout",
          "text": [
            "############################################## SOLUCION PREGUNTA 3 ##############################################\n",
            "                                seller_id  total_ventas(%)\n",
            "0   0158E0BA-7916-434F-AEAE-1C30-DF768884         0.569234\n",
            "1   0195516D-AD20-4FAF-90E6-1C47-DAFAAA73         0.875089\n",
            "2   02113CCD-0E4D-4324-B728-1EEF-E26AC2BA         1.479730\n",
            "3   032C593C-ED37-497C-B78E-1D75-D52C6181         1.706191\n",
            "4   05C100DE-C68D-4E6A-A8A6-9637-8CF6295C         1.080160\n",
            "..                                    ...              ...\n",
            "78  F8DF8EC7-E54E-40EA-97BA-C277-F20A70D0         1.583655\n",
            "79  FA1A3B8F-9273-4CE2-95ED-D508-200F740C         1.584562\n",
            "80  FBE555F8-864A-4118-BFFD-C432-4054ED52         0.251173\n",
            "81  FCB585EF-A4D5-437D-951F-EC84-5171FFC6         0.679322\n",
            "82  FE1085CE-EF48-4B89-8B06-14CB-D0E5F6C1         0.434010\n",
            "\n",
            "[83 rows x 2 columns]\n"
          ]
        },
        {
          "output_type": "display_data",
          "data": {
            "application/javascript": [
              "\n",
              "    async function download(id, filename, size) {\n",
              "      if (!google.colab.kernel.accessAllowed) {\n",
              "        return;\n",
              "      }\n",
              "      const div = document.createElement('div');\n",
              "      const label = document.createElement('label');\n",
              "      label.textContent = `Downloading \"${filename}\": `;\n",
              "      div.appendChild(label);\n",
              "      const progress = document.createElement('progress');\n",
              "      progress.max = size;\n",
              "      div.appendChild(progress);\n",
              "      document.body.appendChild(div);\n",
              "\n",
              "      const buffers = [];\n",
              "      let downloaded = 0;\n",
              "\n",
              "      const channel = await google.colab.kernel.comms.open(id);\n",
              "      // Send a message to notify the kernel that we're ready.\n",
              "      channel.send({})\n",
              "\n",
              "      for await (const message of channel.messages) {\n",
              "        // Send a message to notify the kernel that we're ready.\n",
              "        channel.send({})\n",
              "        if (message.buffers) {\n",
              "          for (const buffer of message.buffers) {\n",
              "            buffers.push(buffer);\n",
              "            downloaded += buffer.byteLength;\n",
              "            progress.value = downloaded;\n",
              "          }\n",
              "        }\n",
              "      }\n",
              "      const blob = new Blob(buffers, {type: 'application/binary'});\n",
              "      const a = document.createElement('a');\n",
              "      a.href = window.URL.createObjectURL(blob);\n",
              "      a.download = filename;\n",
              "      div.appendChild(a);\n",
              "      a.click();\n",
              "      div.remove();\n",
              "    }\n",
              "  "
            ],
            "text/plain": [
              "<IPython.core.display.Javascript object>"
            ]
          },
          "metadata": {}
        },
        {
          "output_type": "display_data",
          "data": {
            "application/javascript": [
              "download(\"download_648855dd-fb98-4ff8-b139-26e0abad95f6\", \"SOLUCION_PREGUNTA_3.xlsx\", 9227)"
            ],
            "text/plain": [
              "<IPython.core.display.Javascript object>"
            ]
          },
          "metadata": {}
        },
        {
          "output_type": "stream",
          "name": "stdout",
          "text": [
            "############################################## SOLUCION PREGUNTA 4 ##############################################\n",
            "<class 'pandas.core.frame.DataFrame'>\n",
            "Int64Index: 200 entries, 0 to 199\n",
            "Data columns (total 19 columns):\n",
            " #   Column                    Non-Null Count  Dtype  \n",
            "---  ------                    --------------  -----  \n",
            " 0   order_id                  200 non-null    object \n",
            " 1   buyer_id                  200 non-null    object \n",
            " 2   seller_id                 200 non-null    object \n",
            " 3   order_product_1_sku       200 non-null    int64  \n",
            " 4   order_product_1_qt        200 non-null    int64  \n",
            " 5   order_product_2_sku       200 non-null    int64  \n",
            " 6   order_product_2_qt        200 non-null    int64  \n",
            " 7   order_date_formateada     200 non-null    object \n",
            " 8   seller_phone              200 non-null    int64  \n",
            " 9   seller_name               200 non-null    object \n",
            " 10  buyer_name                200 non-null    object \n",
            " 11  buyer_phone               200 non-null    float64\n",
            " 12  order_product_1_id        200 non-null    object \n",
            " 13  order_product_1_sku_name  200 non-null    object \n",
            " 14  order_product_1_price     200 non-null    float64\n",
            " 15  order_product_2_id        200 non-null    object \n",
            " 16  order_product_2_sku_name  200 non-null    object \n",
            " 17  order_product_2_price     200 non-null    float64\n",
            " 18  sk1+sk2                   200 non-null    object \n",
            "dtypes: float64(3), int64(5), object(11)\n",
            "memory usage: 31.2+ KB\n",
            "                                  order_id  ... sk1+sk2\n",
            "0    8275800A-F1C9-49BD-97E1-18DA-64C3A758  ...   25100\n",
            "1    341DDEC4-8D7D-4C4C-B8E8-6EA8-F5A8692B  ...    2293\n",
            "2    B74FEE59-0E7A-4B06-8A05-C56F-5E6A7903  ...    2218\n",
            "3    93924557-72E7-4DAA-83FF-613B-363FE64C  ...    8950\n",
            "4    42654D33-759A-4F3D-ABAC-DB89-68BC6B24  ...    5839\n",
            "..                                     ...  ...     ...\n",
            "195  BDB9D2E3-2E49-455A-924E-9F3F-98E1DFED  ...    9361\n",
            "196  3CDE425C-3130-4192-9D44-E16B-C9E5F45A  ...    4722\n",
            "197  9966E05B-4AAA-4D2F-8B62-97E6-FCA166B8  ...    7656\n",
            "198  B80537D7-56F4-42ED-A665-54EE-65AA4599  ...    7775\n",
            "199  9BF5274A-743C-4B04-858F-CCC5-48C3460B  ...    5782\n",
            "\n",
            "[200 rows x 19 columns]\n"
          ]
        },
        {
          "output_type": "display_data",
          "data": {
            "application/javascript": [
              "\n",
              "    async function download(id, filename, size) {\n",
              "      if (!google.colab.kernel.accessAllowed) {\n",
              "        return;\n",
              "      }\n",
              "      const div = document.createElement('div');\n",
              "      const label = document.createElement('label');\n",
              "      label.textContent = `Downloading \"${filename}\": `;\n",
              "      div.appendChild(label);\n",
              "      const progress = document.createElement('progress');\n",
              "      progress.max = size;\n",
              "      div.appendChild(progress);\n",
              "      document.body.appendChild(div);\n",
              "\n",
              "      const buffers = [];\n",
              "      let downloaded = 0;\n",
              "\n",
              "      const channel = await google.colab.kernel.comms.open(id);\n",
              "      // Send a message to notify the kernel that we're ready.\n",
              "      channel.send({})\n",
              "\n",
              "      for await (const message of channel.messages) {\n",
              "        // Send a message to notify the kernel that we're ready.\n",
              "        channel.send({})\n",
              "        if (message.buffers) {\n",
              "          for (const buffer of message.buffers) {\n",
              "            buffers.push(buffer);\n",
              "            downloaded += buffer.byteLength;\n",
              "            progress.value = downloaded;\n",
              "          }\n",
              "        }\n",
              "      }\n",
              "      const blob = new Blob(buffers, {type: 'application/binary'});\n",
              "      const a = document.createElement('a');\n",
              "      a.href = window.URL.createObjectURL(blob);\n",
              "      a.download = filename;\n",
              "      div.appendChild(a);\n",
              "      a.click();\n",
              "      div.remove();\n",
              "    }\n",
              "  "
            ],
            "text/plain": [
              "<IPython.core.display.Javascript object>"
            ]
          },
          "metadata": {}
        },
        {
          "output_type": "display_data",
          "data": {
            "application/javascript": [
              "download(\"download_53230352-53b0-4caa-9e36-1075313cc2d0\", \"SOLUCION_PREGUNTA_4.xlsx\", 38210)"
            ],
            "text/plain": [
              "<IPython.core.display.Javascript object>"
            ]
          },
          "metadata": {}
        },
        {
          "output_type": "execute_result",
          "data": {
            "text/plain": [
              "(                                  order_id  ... order_product_2_price\n",
              " 0    8275800A-F1C9-49BD-97E1-18DA-64C3A758  ...                  8.84\n",
              " 1    341DDEC4-8D7D-4C4C-B8E8-6EA8-F5A8692B  ...                  5.40\n",
              " 2    B74FEE59-0E7A-4B06-8A05-C56F-5E6A7903  ...                 10.38\n",
              " 3    93924557-72E7-4DAA-83FF-613B-363FE64C  ...                  3.66\n",
              " 4    42654D33-759A-4F3D-ABAC-DB89-68BC6B24  ...                  8.35\n",
              " ..                                     ...  ...                   ...\n",
              " 195  BDB9D2E3-2E49-455A-924E-9F3F-98E1DFED  ...                  4.68\n",
              " 196  3CDE425C-3130-4192-9D44-E16B-C9E5F45A  ...                  6.63\n",
              " 197  9966E05B-4AAA-4D2F-8B62-97E6-FCA166B8  ...                 11.52\n",
              " 198  B80537D7-56F4-42ED-A665-54EE-65AA4599  ...                  7.35\n",
              " 199  9BF5274A-743C-4B04-858F-CCC5-48C3460B  ...                  4.73\n",
              " \n",
              " [200 rows x 18 columns],\n",
              "                                  seller_id  ... crecimiento\n",
              " 12   0158E0BA-7916-434F-AEAE-1C30-DF768884  ...        0.00\n",
              " 191  0158E0BA-7916-434F-AEAE-1C30-DF768884  ...      -10.71\n",
              " 199  0195516D-AD20-4FAF-90E6-1C47-DAFAAA73  ...        0.00\n",
              " 184  0195516D-AD20-4FAF-90E6-1C47-DAFAAA73  ...       13.39\n",
              " 87   0195516D-AD20-4FAF-90E6-1C47-DAFAAA73  ...       61.68\n",
              " ..                                     ...  ...         ...\n",
              " 44   FA1A3B8F-9273-4CE2-95ED-D508-200F740C  ...       69.74\n",
              " 47   FA1A3B8F-9273-4CE2-95ED-D508-200F740C  ...       10.99\n",
              " 138  FBE555F8-864A-4118-BFFD-C432-4054ED52  ...        0.00\n",
              " 84   FCB585EF-A4D5-437D-951F-EC84-5171FFC6  ...        0.00\n",
              " 58   FE1085CE-EF48-4B89-8B06-14CB-D0E5F6C1  ...        0.00\n",
              " \n",
              " [200 rows x 4 columns],\n",
              "                                 seller_id  total_ventas(%)\n",
              " 0   0158E0BA-7916-434F-AEAE-1C30-DF768884         0.569234\n",
              " 1   0195516D-AD20-4FAF-90E6-1C47-DAFAAA73         0.875089\n",
              " 2   02113CCD-0E4D-4324-B728-1EEF-E26AC2BA         1.479730\n",
              " 3   032C593C-ED37-497C-B78E-1D75-D52C6181         1.706191\n",
              " 4   05C100DE-C68D-4E6A-A8A6-9637-8CF6295C         1.080160\n",
              " ..                                    ...              ...\n",
              " 78  F8DF8EC7-E54E-40EA-97BA-C277-F20A70D0         1.583655\n",
              " 79  FA1A3B8F-9273-4CE2-95ED-D508-200F740C         1.584562\n",
              " 80  FBE555F8-864A-4118-BFFD-C432-4054ED52         0.251173\n",
              " 81  FCB585EF-A4D5-437D-951F-EC84-5171FFC6         0.679322\n",
              " 82  FE1085CE-EF48-4B89-8B06-14CB-D0E5F6C1         0.434010\n",
              " \n",
              " [83 rows x 2 columns],\n",
              "                                   order_id  ... sk1+sk2\n",
              " 0    8275800A-F1C9-49BD-97E1-18DA-64C3A758  ...   25100\n",
              " 1    341DDEC4-8D7D-4C4C-B8E8-6EA8-F5A8692B  ...    2293\n",
              " 2    B74FEE59-0E7A-4B06-8A05-C56F-5E6A7903  ...    2218\n",
              " 3    93924557-72E7-4DAA-83FF-613B-363FE64C  ...    8950\n",
              " 4    42654D33-759A-4F3D-ABAC-DB89-68BC6B24  ...    5839\n",
              " ..                                     ...  ...     ...\n",
              " 195  BDB9D2E3-2E49-455A-924E-9F3F-98E1DFED  ...    9361\n",
              " 196  3CDE425C-3130-4192-9D44-E16B-C9E5F45A  ...    4722\n",
              " 197  9966E05B-4AAA-4D2F-8B62-97E6-FCA166B8  ...    7656\n",
              " 198  B80537D7-56F4-42ED-A665-54EE-65AA4599  ...    7775\n",
              " 199  9BF5274A-743C-4B04-858F-CCC5-48C3460B  ...    5782\n",
              " \n",
              " [200 rows x 19 columns])"
            ]
          },
          "metadata": {},
          "execution_count": 16
        }
      ]
    },
    {
      "cell_type": "markdown",
      "metadata": {
        "id": "O_9GdDn52l-I"
      },
      "source": [
        "# 4) PRUEBAS UNITARIAS"
      ]
    },
    {
      "cell_type": "markdown",
      "metadata": {
        "id": "_EtAek4yNwOf"
      },
      "source": [
        "En este punto se hicieron pruebas de la cantidad de filas para las 4 tablas y se puso a proposito distintas filas a las reales de las buyers y orders para ver el 'Failed' "
      ]
    },
    {
      "cell_type": "code",
      "metadata": {
        "id": "Jxk_9wJGnNY6"
      },
      "source": [
        "import unittest\n",
        "\n",
        "listaurl = ['https://favo-data-test.s3.amazonaws.com/TestFolder/orders.json','https://favo-data-test.s3.amazonaws.com/TestFolder/sellers.json','https://favo-data-test.s3.amazonaws.com/TestFolder/buyers.json','https://favo-data-test.s3.amazonaws.com/TestFolder/products.json']\n",
        "\n",
        "class CalcularFilas:\n",
        "    \n",
        "    def __init__(self):\n",
        "        pass\n",
        "\n",
        "    def CalcularFilasOrders(self,x):\n",
        "        data_orders = TransformarJsonOrders(x)\n",
        "        return len(data_orders.index)\n",
        "\n",
        "    def CalcularFilasSellers(self,x):\n",
        "        data_sellers = TransformarJsonSellers(x)\n",
        "        return len(data_sellers.index)\n",
        "\n",
        "    def CalcularFilasBuyers(self,x):\n",
        "        data_buyers = TransformarJsonBuyers(x)\n",
        "        return len(data_buyers.index)\n",
        "\n",
        "    def CalcularFilasOrders(self,x):\n",
        "        data_buyers = TransformarJsonProducts(x)\n",
        "        return len(data_buyers.index)\n",
        "\n",
        "\n",
        "class TestCalcularFilas(unittest.TestCase):\n",
        "\n",
        "    def test_CalcularFilasOrders(self):\n",
        "        '''Test case function for CalcularFilasOrders'''\n",
        "        self.calc = CalcularFilas()\n",
        "        result = self.calc.CalcularFilasOrders(listaurl[0])\n",
        "        expected = 120\n",
        "        self.assertEqual(result, expected)\n",
        "\n",
        "    def test_CalcularFilasSellers(self):\n",
        "        '''Test case function for CalcularFilasSellers'''\n",
        "        self.calc = CalcularFilas()\n",
        "        result = self.calc.CalcularFilasSellers(listaurl[1])\n",
        "        expected = 89\n",
        "        self.assertEqual(result, expected)\n",
        "\n",
        "    def test_CalcularFilasBuyers(self):\n",
        "        '''Test case function for CalcularFilasBuyers'''\n",
        "        self.calc = CalcularFilas()\n",
        "        result = self.calc.CalcularFilasBuyers(listaurl[2])\n",
        "        expected = 150\n",
        "        self.assertEqual(result, expected)\n",
        "\n",
        "\n",
        "    def test_CalcularFilasOrders(self):\n",
        "        '''Test case function for CalcularFilasOrders'''\n",
        "        self.calc = CalcularFilas()\n",
        "        result = self.calc.CalcularFilasOrders(listaurl[3])\n",
        "        expected = 200\n",
        "        self.assertEqual(result, expected)\n"
      ],
      "execution_count": 17,
      "outputs": []
    },
    {
      "cell_type": "code",
      "metadata": {
        "colab": {
          "base_uri": "https://localhost:8080/"
        },
        "id": "MNMrL5tTyD9n",
        "outputId": "9cd0baaf-047d-4426-aa35-1cab1179ddd8"
      },
      "source": [
        "unittest.main(argv=[''], verbosity=2, exit=False)"
      ],
      "execution_count": 18,
      "outputs": [
        {
          "output_type": "stream",
          "name": "stderr",
          "text": [
            "test_CalcularFilasBuyers (__main__.TestCalcularFilas)\n",
            "Test case function for CalcularFilasBuyers ... FAIL\n",
            "test_CalcularFilasOrders (__main__.TestCalcularFilas)\n",
            "Test case function for CalcularFilasOrders ... "
          ]
        },
        {
          "output_type": "stream",
          "name": "stdout",
          "text": [
            "--2021-09-17 10:28:53--  https://favo-data-test.s3.amazonaws.com/TestFolder/products.json\n",
            "Resolving favo-data-test.s3.amazonaws.com (favo-data-test.s3.amazonaws.com)... 52.216.230.19\n",
            "Connecting to favo-data-test.s3.amazonaws.com (favo-data-test.s3.amazonaws.com)|52.216.230.19|:443... connected.\n",
            "HTTP request sent, awaiting response... 416 Requested Range Not Satisfiable\n",
            "\n",
            "    The file is already fully retrieved; nothing to do.\n",
            "\n"
          ]
        },
        {
          "output_type": "stream",
          "name": "stderr",
          "text": [
            "FAIL\n",
            "test_CalcularFilasSellers (__main__.TestCalcularFilas)\n",
            "Test case function for CalcularFilasSellers ... "
          ]
        },
        {
          "output_type": "stream",
          "name": "stdout",
          "text": [
            "--2021-09-17 10:28:54--  https://favo-data-test.s3.amazonaws.com/TestFolder/sellers.json\n",
            "Resolving favo-data-test.s3.amazonaws.com (favo-data-test.s3.amazonaws.com)... 52.216.97.139\n",
            "Connecting to favo-data-test.s3.amazonaws.com (favo-data-test.s3.amazonaws.com)|52.216.97.139|:443... connected.\n",
            "HTTP request sent, awaiting response... 416 Requested Range Not Satisfiable\n",
            "\n",
            "    The file is already fully retrieved; nothing to do.\n",
            "\n"
          ]
        },
        {
          "output_type": "stream",
          "name": "stderr",
          "text": [
            "ok\n",
            "\n",
            "======================================================================\n",
            "FAIL: test_CalcularFilasBuyers (__main__.TestCalcularFilas)\n",
            "Test case function for CalcularFilasBuyers\n",
            "----------------------------------------------------------------------\n",
            "Traceback (most recent call last):\n",
            "  File \"<ipython-input-17-99c14596a8d2>\", line 48, in test_CalcularFilasBuyers\n",
            "    self.assertEqual(result, expected)\n",
            "AssertionError: 200 != 150\n",
            "\n",
            "======================================================================\n",
            "FAIL: test_CalcularFilasOrders (__main__.TestCalcularFilas)\n",
            "Test case function for CalcularFilasOrders\n",
            "----------------------------------------------------------------------\n",
            "Traceback (most recent call last):\n",
            "  File \"<ipython-input-17-99c14596a8d2>\", line 56, in test_CalcularFilasOrders\n",
            "    self.assertEqual(result, expected)\n",
            "AssertionError: 104 != 200\n",
            "\n",
            "----------------------------------------------------------------------\n",
            "Ran 3 tests in 1.650s\n",
            "\n",
            "FAILED (failures=2)\n"
          ]
        },
        {
          "output_type": "execute_result",
          "data": {
            "text/plain": [
              "<unittest.main.TestProgram at 0x7f1ba20d5b50>"
            ]
          },
          "metadata": {},
          "execution_count": 18
        }
      ]
    }
  ]
}